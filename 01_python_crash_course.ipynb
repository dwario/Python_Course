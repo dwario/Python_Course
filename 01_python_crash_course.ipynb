{
  "metadata": {
    "kernelspec": {
      "name": "python",
      "display_name": "Python (Pyodide)",
      "language": "python"
    },
    "language_info": {
      "codemirror_mode": {
        "name": "python",
        "version": 3
      },
      "file_extension": ".py",
      "mimetype": "text/x-python",
      "name": "python",
      "nbconvert_exporter": "python",
      "pygments_lexer": "ipython3",
      "version": "3.8"
    }
  },
  "nbformat_minor": 4,
  "nbformat": 4,
  "cells": [
    {
      "cell_type": "markdown",
      "source": "# Basics\n\n**Variables**   are containers for storing data values.\n\n    x = 12 \n    name = Jane\n    pi = 3.1416\n\n**Operators** are used to perform operations on variables and values.\n\n**Arithmetic Operators**\n| Operator |Name  |Example|\n|--|--|--|\n| + |Addition  | a + b|\n| - | Substraction | a - b |\n| * | Multiplication  | a * b|\n| / | Division  |a / b |\n| % | Modulus | a % b|\n| ** | Exponentiation  | a ** b|\n| // | Floor Division | a // b |\n\n\n**Comparation Operators**\n| Operator | Name | Example |\n|--|--|--|\n|==| Equal | a == b |\n|!=| Not equal | a != b |\n| >| Greater than | a > b |\n| <| Less than  | a < b |\n| >=| Greater than or equal to | a >= b |\n|<= | Less than or equal to | a <= b |\n\n**Logical Operators**\n| Operator | Name | \n|--|--|\n|and |Returns True if both statements are true | \n|or |Returns True if one of the statements is true \n| not|Reverse the result, returns False if the result is true",
      "metadata": {}
    }
  ]
}