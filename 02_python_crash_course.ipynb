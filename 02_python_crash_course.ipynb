{
  "metadata": {
    "kernelspec": {
      "name": "python",
      "display_name": "Python (Pyodide)",
      "language": "python"
    },
    "language_info": {
      "codemirror_mode": {
        "name": "python",
        "version": 3
      },
      "file_extension": ".py",
      "mimetype": "text/x-python",
      "name": "python",
      "nbconvert_exporter": "python",
      "pygments_lexer": "ipython3",
      "version": "3.8"
    }
  },
  "nbformat_minor": 4,
  "nbformat": 4,
  "cells": [
    {
      "cell_type": "markdown",
      "source": "# Python Data types\n -  **Numeric**\n\t - int\n\t - float\n\t - complex number\n - **Boolean**\n - **Sequence Type**\n\t - string\n     - list\n\t - tuple\n - **Set**\n - **Dictionary**",
      "metadata": {}
    },
    {
      "cell_type": "markdown",
      "source": "## Numeric\n\nThe numeric data type in Python represents the data that has a numeric value. A numeric value can be an integer, a floating number, or even a complex number. ",
      "metadata": {
        "jp-MarkdownHeadingCollapsed": true
      }
    },
    {
      "cell_type": "markdown",
      "source": "### Integer \nThe integer or int types in Python allow you to store a non-decimal numeric value, either positive or negative, of any value. The `type()` function returns the type of the variable, and we can see that it is actually of the int class.",
      "metadata": {}
    },
    {
      "cell_type": "code",
      "source": "i = (13)\nprint(i)\nprint(type(i))",
      "metadata": {
        "trusted": true
      },
      "outputs": [
        {
          "name": "stdout",
          "text": "13\n<class 'int'>\n",
          "output_type": "stream"
        }
      ],
      "execution_count": 3
    },
    {
      "cell_type": "markdown",
      "source": "### Float\nThe float numeric type allows you to represent a positive or negative number with decimals, that is, real numbers.",
      "metadata": {}
    },
    {
      "cell_type": "code",
      "source": "#Float with decimal\nf = (19.98)\nprint(f)\nprint(type(f))\n\n#Float with an \"e\" to indicate the power of 10.\nfs = (35e5) \nprint(fs)\nprint(type(fs))",
      "metadata": {
        "trusted": true
      },
      "outputs": [
        {
          "name": "stdout",
          "text": "19.98\n<class 'float'>\n3500000.0\n<class 'float'>\n",
          "output_type": "stream"
        }
      ],
      "execution_count": 14
    },
    {
      "cell_type": "markdown",
      "source": "### Complex Numbers\nA complex number is represented by a complex class. It is specified as __(real part) + (imaginary part)j__",
      "metadata": {}
    },
    {
      "cell_type": "code",
      "source": "real_part = 5\nimaginary_part = 7j\n\ncomplex_num = (real_part + imaginary_part)\n\nprint(complex_num)\nprint(type(complex_num))",
      "metadata": {
        "trusted": true
      },
      "outputs": [
        {
          "name": "stdout",
          "text": "(5+7j)\n<class 'complex'>\n",
          "output_type": "stream"
        }
      ],
      "execution_count": 95
    },
    {
      "cell_type": "markdown",
      "source": "## Boolean\nData type that allows two True or False values to be stored.",
      "metadata": {
        "jp-MarkdownHeadingCollapsed": true
      }
    },
    {
      "cell_type": "code",
      "source": "x = True\ny = False\n\nprint(x)\nprint(y)\nprint(type(x))\nprint(type(y))",
      "metadata": {
        "trusted": true
      },
      "outputs": [
        {
          "name": "stdout",
          "text": "True\nFalse\n<class 'bool'>\n<class 'bool'>\n",
          "output_type": "stream"
        }
      ],
      "execution_count": 19
    },
    {
      "cell_type": "markdown",
      "source": "## Sequence Type\n\nIt is a type that stores more than one item at a time. Therefore, we can say that it is a collection of items. Moreover, to access these items each item has a particular index number. There are three types of sequence data types namely, strings, lists, and tuples.\n",
      "metadata": {}
    },
    {
      "cell_type": "markdown",
      "source": "### String\nIt is a group of characters. These characters can be digits, alphabets, or special symbols.",
      "metadata": {
        "jp-MarkdownHeadingCollapsed": true
      }
    },
    {
      "cell_type": "code",
      "source": "my_str = 'Hello'\nprint(my_str)\nprint(type(my_str))\n\nprint(my_str[3])\n",
      "metadata": {
        "trusted": true
      },
      "outputs": [
        {
          "name": "stdout",
          "text": "Hello\n<class 'str'>\nl\n",
          "output_type": "stream"
        }
      ],
      "execution_count": 106
    },
    {
      "cell_type": "markdown",
      "source": "### List\nLists are used to store multiple items in a single variable, we can represent it using square brackets `[]` .\n\n- **List Items**\n\t- List items are ordered, changeable, and allow duplicate values.\n\t- List items are indexed, the first item has index `[0]`, the second item has index `[1]` etc.\n- **Ordered**\n\t-  When we say that lists are ordered, it means that the items have a defined order, and that order will not change. \n\t- If you add new items to a list, the new items will be placed at the end of the list.\n- **Changeable**\n\t- The list is changeable, meaning that we can change, add, and remove items in a list after it has been created\n- **Allow Duplicates** \n\t- Since lists are indexed, lists can have items with the same value.\n",
      "metadata": {
        "jp-MarkdownHeadingCollapsed": true
      }
    },
    {
      "cell_type": "code",
      "source": "noble_gases  = ['neon','argon','krypton','xenon','radon']\n\nprint(noble_gases)\n\nprint(type(noble_gases))",
      "metadata": {
        "trusted": true
      },
      "outputs": [
        {
          "name": "stdout",
          "text": "['neon', 'argon', 'krypton', 'xenon', 'radon']\n<class 'list'>\n",
          "output_type": "stream"
        }
      ],
      "execution_count": 100
    },
    {
      "cell_type": "markdown",
      "source": "#### List Methods\nPython has a set of built-in methods that you can use on lists.\n",
      "metadata": {}
    },
    {
      "cell_type": "markdown",
      "source": "**append()** Adds an element at the end of the list",
      "metadata": {}
    },
    {
      "cell_type": "code",
      "source": "noble_gases.append('helium')\nprint(noble_gases)",
      "metadata": {
        "trusted": true
      },
      "outputs": [
        {
          "name": "stdout",
          "text": "['neon', 'argon', 'krypton', 'xenon', 'radon', 'helium']\n",
          "output_type": "stream"
        }
      ],
      "execution_count": 60
    },
    {
      "cell_type": "markdown",
      "source": "---\n**copy()**\tReturns a copy of the list",
      "metadata": {}
    },
    {
      "cell_type": "code",
      "source": "the_copy = noble_gases.copy()\n\nprint(the_copy)",
      "metadata": {
        "trusted": true
      },
      "outputs": [
        {
          "name": "stdout",
          "text": "['neon', 'argon', 'krypton', 'xenon', 'radon']\n",
          "output_type": "stream"
        }
      ],
      "execution_count": 105
    },
    {
      "cell_type": "markdown",
      "source": "---\n**count()**\tReturns the number of elements with the specified value",
      "metadata": {}
    },
    {
      "cell_type": "code",
      "source": "print(noble_gases.count('helium'))",
      "metadata": {
        "trusted": true
      },
      "outputs": [
        {
          "name": "stdout",
          "text": "1\n",
          "output_type": "stream"
        }
      ],
      "execution_count": 50
    },
    {
      "cell_type": "markdown",
      "source": "---\n**extend()**\tAdd the elements of a list (or any iterable), to the end of the current list",
      "metadata": {}
    },
    {
      "cell_type": "code",
      "source": "atomic_number = [10,18,36,54,86,2]\n\nthe_copy.extend(atomic_number)\n\nprint(the_copy)",
      "metadata": {
        "trusted": true
      },
      "outputs": [
        {
          "name": "stdout",
          "text": "['neon', 'argon', 'krypton', 'xenon', 'radon', 'helium', 10, 18, 36, 54, 86, 2, 10, 18, 36, 54, 86, 2]\n",
          "output_type": "stream"
        }
      ],
      "execution_count": 53
    },
    {
      "cell_type": "markdown",
      "source": "---\n**index()**\tReturns the index of the first element with the specified value",
      "metadata": {}
    },
    {
      "cell_type": "code",
      "source": "print(noble_gases.index('radon'))",
      "metadata": {
        "trusted": true
      },
      "outputs": [
        {
          "name": "stdout",
          "text": "4\n",
          "output_type": "stream"
        }
      ],
      "execution_count": 56
    },
    {
      "cell_type": "markdown",
      "source": "---\n**pop()**\tRemoves the element at the specified position",
      "metadata": {}
    },
    {
      "cell_type": "code",
      "source": "print(noble_gases)\n\nnoble_gases.pop(5)\n\nprint(noble_gases)",
      "metadata": {
        "trusted": true
      },
      "outputs": [
        {
          "name": "stdout",
          "text": "['neon', 'argon', 'krypton', 'xenon', 'radon', 'helium']\n['neon', 'argon', 'krypton', 'xenon', 'radon']\n",
          "output_type": "stream"
        }
      ],
      "execution_count": 61
    },
    {
      "cell_type": "markdown",
      "source": "---\n**insert()**\tAdds an element at the specified position",
      "metadata": {}
    },
    {
      "cell_type": "code",
      "source": "noble_gases.insert(0,'helium')\nprint(noble_gases)",
      "metadata": {
        "trusted": true
      },
      "outputs": [
        {
          "name": "stdout",
          "text": "['helium', 'neon', 'argon', 'krypton', 'xenon', 'radon']\n",
          "output_type": "stream"
        }
      ],
      "execution_count": 66
    },
    {
      "cell_type": "markdown",
      "source": "---\n**remove()**\tRemoves the item with the specified value",
      "metadata": {}
    },
    {
      "cell_type": "code",
      "source": "noble_gases.remove('radon')\nprint(noble_gases)",
      "metadata": {
        "trusted": true
      },
      "outputs": [
        {
          "name": "stdout",
          "text": "['helium', 'neon', 'argon', 'krypton', 'xenon']\n",
          "output_type": "stream"
        }
      ],
      "execution_count": 67
    },
    {
      "cell_type": "markdown",
      "source": "---\n**reverse()**\tReverses the order of the list",
      "metadata": {}
    },
    {
      "cell_type": "code",
      "source": "noble_gases.reverse()\nprint(noble_gases)",
      "metadata": {
        "trusted": true
      },
      "outputs": [
        {
          "name": "stdout",
          "text": "['xenon', 'krypton', 'argon', 'neon', 'helium']\n",
          "output_type": "stream"
        }
      ],
      "execution_count": 68
    },
    {
      "cell_type": "markdown",
      "source": "---\n**sort()**\tSort the list",
      "metadata": {}
    },
    {
      "cell_type": "code",
      "source": "noble_gases.sort()\nprint(noble_gases)",
      "metadata": {
        "trusted": true
      },
      "outputs": [
        {
          "name": "stdout",
          "text": "['argon', 'helium', 'krypton', 'neon', 'xenon']\n",
          "output_type": "stream"
        }
      ],
      "execution_count": 69
    },
    {
      "cell_type": "markdown",
      "source": "---\n**clear()**\tRemoves all the elements from the list",
      "metadata": {}
    },
    {
      "cell_type": "code",
      "source": "noble_gases.clear()\nprint(noble_gases)",
      "metadata": {
        "trusted": true
      },
      "outputs": [
        {
          "name": "stdout",
          "text": "[]\n",
          "output_type": "stream"
        }
      ],
      "execution_count": 70
    },
    {
      "cell_type": "markdown",
      "source": "### Tuples \n\n-   **Ordered**: They contain elements that are sequentially arranged according to their specific insertion order.\n-   **Lightweight**: They consume relatively small amounts of memory compared to other sequences like lists.\n-   **Indexable through a zero-based index**: They allow you to access their elements by integer indices that start from zero.\n-   **Immutable**: They don’t support in-place mutations or changes to their contained elements. They don’t support growing or shrinking operations.\n-   **Heterogeneous**: They can store objects of different data types and domains, including mutable objects.\n-   **Nestable**: They can contain other tuples, so you can have tuples of tuples.\n-   **Iterable**: They support iteration, so you can traverse them using a loop or comprehension while you perform operations with each of their elements.\n-   **Sliceable**: They support slicing operations, meaning that you can extract a series of elements from a tuple.\n-   **Combinable**: They support concatenation operations, so you can combine two or more tuples using the concatenation operators, which creates a new tuple.\n-   **Hashable**: They can work as keys in  dictionaries when all the tuple items are immutable.\n",
      "metadata": {}
    },
    {
      "cell_type": "code",
      "source": "heavy_metals = ('mercury','lead','chromium','cadmiun','arsenic')\nprint(heavy_metals)\n\nprint(type(heavy_metals))",
      "metadata": {
        "trusted": true
      },
      "outputs": [
        {
          "name": "stdout",
          "text": "('mercury', 'lead', 'chromium', 'cadmiun', 'arsenic')\n<class 'tuple'>\n",
          "output_type": "stream"
        }
      ],
      "execution_count": 71
    },
    {
      "cell_type": "markdown",
      "source": "#### Tuple Methods\nPython has two built-in methods that you can use on tuples.",
      "metadata": {}
    },
    {
      "cell_type": "markdown",
      "source": "---\n**count()** method returns the number of times a specified value appears in the tuple.",
      "metadata": {}
    },
    {
      "cell_type": "code",
      "source": "print(heavy_metals.count('chromium'))",
      "metadata": {
        "trusted": true
      },
      "outputs": [
        {
          "name": "stdout",
          "text": "1\n",
          "output_type": "stream"
        }
      ],
      "execution_count": 73
    },
    {
      "cell_type": "code",
      "source": "print(heavy_metals.count('helium'))",
      "metadata": {
        "trusted": true
      },
      "outputs": [
        {
          "name": "stdout",
          "text": "0\n",
          "output_type": "stream"
        }
      ],
      "execution_count": 74
    },
    {
      "cell_type": "markdown",
      "source": "---\n**index()**\tSearches the tuple for a specified value and returns the position of where it was found",
      "metadata": {}
    },
    {
      "cell_type": "code",
      "source": "print(heavy_metals.index('chromium'))",
      "metadata": {
        "trusted": true
      },
      "outputs": [
        {
          "name": "stdout",
          "text": "2\n",
          "output_type": "stream"
        }
      ],
      "execution_count": 75
    },
    {
      "cell_type": "markdown",
      "source": "## Set\nCollection of unique elements\n-   Sets are unordered.\n-   Set elements are unique. Duplicate elements are not allowed.\n-   A set itself may be modified, but the elements contained in the set must be of an immutable.\n  \n[Set methods here](https://docs.python.org/3/library/stdtypes.html#set-types-set-frozenset)",
      "metadata": {}
    },
    {
      "cell_type": "code",
      "source": "numbers = {1,2,3,5,6,6,6,7,7,7,1,1,2}\nprint(numbers)\nprint(type(numbers))",
      "metadata": {
        "trusted": true
      },
      "outputs": [
        {
          "name": "stdout",
          "text": "{1, 2, 3, 5, 6, 7}\n<class 'set'>\n",
          "output_type": "stream"
        }
      ],
      "execution_count": 80
    },
    {
      "cell_type": "code",
      "source": "numbers.add(0)\nprint(numbers)",
      "metadata": {
        "trusted": true
      },
      "outputs": [
        {
          "name": "stdout",
          "text": "{0, 1, 2, 3, 5, 6, 7}\n",
          "output_type": "stream"
        }
      ],
      "execution_count": 81
    },
    {
      "cell_type": "code",
      "source": "numbers.add(0)\nprint(numbers)",
      "metadata": {
        "trusted": true
      },
      "outputs": [
        {
          "name": "stdout",
          "text": "{0, 1, 2, 3, 5, 6, 7}\n",
          "output_type": "stream"
        }
      ],
      "execution_count": 82
    },
    {
      "cell_type": "markdown",
      "source": "## Dictionary\nCollection of **key-value** pairs. Each key-value pair maps the key to its associated value.\n\nDictionaries and lists share the following characteristics:\n-   Both are mutable.\n-   Both are dynamic. They can grow and shrink as needed.\n-   Both can be nested. A list can contain another list. A dictionary can contain another dictionary. A dictionary can also contain a list, and vice versa.\n\nDictionaries differ from lists primarily in how elements are accessed:\n-   List elements are accessed by their position in the list, via indexing.\n-   Dictionary elements are accessed via **keys**.",
      "metadata": {}
    },
    {
      "cell_type": "code",
      "source": "copper = {\n    'chemical symbol': 'Cu', \n    'atomic number': 29, \n    'average mass number':  63.546\n}\n\nprint(copper)",
      "metadata": {
        "trusted": true
      },
      "outputs": [
        {
          "name": "stdout",
          "text": "{'chemical symbol': 'Cu', 'atomic number': 29, 'average mass number': 63.546}\n",
          "output_type": "stream"
        }
      ],
      "execution_count": 85
    },
    {
      "cell_type": "markdown",
      "source": "---\n**copy()** Returns a copy of the dictionary",
      "metadata": {}
    },
    {
      "cell_type": "code",
      "source": "copper_copy = copper.copy()\n\nprint(copper_copy)",
      "metadata": {
        "trusted": true
      },
      "outputs": [
        {
          "name": "stdout",
          "text": "{'chemical symbol': 'Cu', 'atomic number': 29, 'average mass number': 63.546}\n",
          "output_type": "stream"
        }
      ],
      "execution_count": 87
    },
    {
      "cell_type": "markdown",
      "source": "---\n**copy()** Returns a copy of the dictionary",
      "metadata": {}
    },
    {
      "cell_type": "code",
      "source": "copper_copy.clear()\n\nprint(copper_copy)",
      "metadata": {
        "trusted": true
      },
      "outputs": [
        {
          "name": "stdout",
          "text": "{}\n",
          "output_type": "stream"
        }
      ],
      "execution_count": 88
    },
    {
      "cell_type": "markdown",
      "source": "---\n**get()** Returns the value of the specified key",
      "metadata": {}
    },
    {
      "cell_type": "code",
      "source": "print(copper.get('atomic number'))",
      "metadata": {
        "trusted": true
      },
      "outputs": [
        {
          "name": "stdout",
          "text": "29\n",
          "output_type": "stream"
        }
      ],
      "execution_count": 90
    },
    {
      "cell_type": "markdown",
      "source": "---\n**values()** Returns a list of all the values in the dictionary",
      "metadata": {}
    },
    {
      "cell_type": "code",
      "source": "print(copper.values())",
      "metadata": {
        "trusted": true
      },
      "outputs": [
        {
          "name": "stdout",
          "text": "dict_values(['Cu', 29, 63.546])\n",
          "output_type": "stream"
        }
      ],
      "execution_count": 91
    }
  ]
}